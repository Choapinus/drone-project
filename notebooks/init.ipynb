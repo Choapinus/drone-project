{
 "cells": [
  {
   "cell_type": "code",
   "execution_count": 1,
   "id": "97a30595-c846-41c7-9fdb-3c9b7b682301",
   "metadata": {},
   "outputs": [],
   "source": [
    "from djitellopy import Tello"
   ]
  },
  {
   "cell_type": "code",
   "execution_count": 34,
   "id": "ee3ebb54-4686-48bb-bde8-38521a545709",
   "metadata": {},
   "outputs": [],
   "source": [
    "server_name = \"TELLO-F09BE7\"\n",
    "password = \"\""
   ]
  },
  {
   "cell_type": "code",
   "execution_count": null,
   "id": "94603cae-e09e-42b0-afeb-1250023611ff",
   "metadata": {},
   "outputs": [],
   "source": [
    "def routine():\n",
    "    drone = Tello()\n",
    "    drone.connect()\n",
    "    \n",
    "    tello.takeoff()\n",
    "    "
   ]
  },
  {
   "cell_type": "code",
   "execution_count": 25,
   "id": "f090639f-a1ae-4854-b617-3586ee18920d",
   "metadata": {},
   "outputs": [
    {
     "name": "stderr",
     "output_type": "stream",
     "text": [
      "[INFO] tello.py - 126 - Tello instance was initialized. Host: '192.168.10.1'. Port: '8889'.\n",
      "[INFO] tello.py - 426 - Send command: 'command'\n",
      "[WARNING] tello.py - 436 - Aborting command 'command'. Did not receive a response after 7 seconds\n",
      "[INFO] tello.py - 426 - Send command: 'command'\n",
      "[WARNING] tello.py - 436 - Aborting command 'command'. Did not receive a response after 7 seconds\n",
      "[INFO] tello.py - 426 - Send command: 'command'\n",
      "[WARNING] tello.py - 436 - Aborting command 'command'. Did not receive a response after 7 seconds\n"
     ]
    },
    {
     "ename": "TelloException",
     "evalue": "Command 'command' was unsuccessful for 4 tries. Latest response:\t'Aborting command 'command'. Did not receive a response after 7 seconds'",
     "output_type": "error",
     "traceback": [
      "\u001b[0;31m---------------------------------------------------------------------------\u001b[0m",
      "\u001b[0;31mTelloException\u001b[0m                            Traceback (most recent call last)",
      "Input \u001b[0;32mIn [25]\u001b[0m, in \u001b[0;36m<cell line: 3>\u001b[0;34m()\u001b[0m\n\u001b[1;32m      1\u001b[0m tello \u001b[38;5;241m=\u001b[39m Tello()\n\u001b[0;32m----> 3\u001b[0m \u001b[43mtello\u001b[49m\u001b[38;5;241;43m.\u001b[39;49m\u001b[43mconnect\u001b[49m\u001b[43m(\u001b[49m\u001b[43m)\u001b[49m\n",
      "File \u001b[0;32m~/TOC/choppytorch/DJITelloPy/djitellopy/enforce_types.py:54\u001b[0m, in \u001b[0;36menforce_types.<locals>.decorate.<locals>.wrapper\u001b[0;34m(*args, **kwargs)\u001b[0m\n\u001b[1;32m     51\u001b[0m \u001b[38;5;129m@wraps\u001b[39m(func)\n\u001b[1;32m     52\u001b[0m \u001b[38;5;28;01mdef\u001b[39;00m \u001b[38;5;21mwrapper\u001b[39m(\u001b[38;5;241m*\u001b[39margs, \u001b[38;5;241m*\u001b[39m\u001b[38;5;241m*\u001b[39mkwargs):\n\u001b[1;32m     53\u001b[0m     check_types(spec, \u001b[38;5;241m*\u001b[39margs, \u001b[38;5;241m*\u001b[39m\u001b[38;5;241m*\u001b[39mkwargs)\n\u001b[0;32m---> 54\u001b[0m     \u001b[38;5;28;01mreturn\u001b[39;00m \u001b[43mfunc\u001b[49m\u001b[43m(\u001b[49m\u001b[38;5;241;43m*\u001b[39;49m\u001b[43margs\u001b[49m\u001b[43m,\u001b[49m\u001b[43m \u001b[49m\u001b[38;5;241;43m*\u001b[39;49m\u001b[38;5;241;43m*\u001b[39;49m\u001b[43mkwargs\u001b[49m\u001b[43m)\u001b[49m\n",
      "File \u001b[0;32m~/TOC/choppytorch/DJITelloPy/djitellopy/tello.py:523\u001b[0m, in \u001b[0;36mTello.connect\u001b[0;34m(self, wait_for_state)\u001b[0m\n\u001b[1;32m    520\u001b[0m \u001b[38;5;28;01mdef\u001b[39;00m \u001b[38;5;21mconnect\u001b[39m(\u001b[38;5;28mself\u001b[39m, wait_for_state\u001b[38;5;241m=\u001b[39m\u001b[38;5;28;01mTrue\u001b[39;00m):\n\u001b[1;32m    521\u001b[0m     \u001b[38;5;124;03m\"\"\"Enter SDK mode. Call this before any of the control functions.\u001b[39;00m\n\u001b[1;32m    522\u001b[0m \u001b[38;5;124;03m    \"\"\"\u001b[39;00m\n\u001b[0;32m--> 523\u001b[0m     \u001b[38;5;28;43mself\u001b[39;49m\u001b[38;5;241;43m.\u001b[39;49m\u001b[43msend_control_command\u001b[49m\u001b[43m(\u001b[49m\u001b[38;5;124;43m\"\u001b[39;49m\u001b[38;5;124;43mcommand\u001b[39;49m\u001b[38;5;124;43m\"\u001b[39;49m\u001b[43m)\u001b[49m\n\u001b[1;32m    525\u001b[0m     \u001b[38;5;28;01mif\u001b[39;00m wait_for_state:\n\u001b[1;32m    526\u001b[0m         REPS \u001b[38;5;241m=\u001b[39m \u001b[38;5;241m20\u001b[39m\n",
      "File \u001b[0;32m~/TOC/choppytorch/DJITelloPy/djitellopy/enforce_types.py:54\u001b[0m, in \u001b[0;36menforce_types.<locals>.decorate.<locals>.wrapper\u001b[0;34m(*args, **kwargs)\u001b[0m\n\u001b[1;32m     51\u001b[0m \u001b[38;5;129m@wraps\u001b[39m(func)\n\u001b[1;32m     52\u001b[0m \u001b[38;5;28;01mdef\u001b[39;00m \u001b[38;5;21mwrapper\u001b[39m(\u001b[38;5;241m*\u001b[39margs, \u001b[38;5;241m*\u001b[39m\u001b[38;5;241m*\u001b[39mkwargs):\n\u001b[1;32m     53\u001b[0m     check_types(spec, \u001b[38;5;241m*\u001b[39margs, \u001b[38;5;241m*\u001b[39m\u001b[38;5;241m*\u001b[39mkwargs)\n\u001b[0;32m---> 54\u001b[0m     \u001b[38;5;28;01mreturn\u001b[39;00m \u001b[43mfunc\u001b[49m\u001b[43m(\u001b[49m\u001b[38;5;241;43m*\u001b[39;49m\u001b[43margs\u001b[49m\u001b[43m,\u001b[49m\u001b[43m \u001b[49m\u001b[38;5;241;43m*\u001b[39;49m\u001b[38;5;241;43m*\u001b[39;49m\u001b[43mkwargs\u001b[49m\u001b[43m)\u001b[49m\n",
      "File \u001b[0;32m~/TOC/choppytorch/DJITelloPy/djitellopy/tello.py:475\u001b[0m, in \u001b[0;36mTello.send_control_command\u001b[0;34m(self, command, timeout)\u001b[0m\n\u001b[1;32m    471\u001b[0m         \u001b[38;5;28;01mreturn\u001b[39;00m \u001b[38;5;28;01mTrue\u001b[39;00m\n\u001b[1;32m    473\u001b[0m     \u001b[38;5;28mself\u001b[39m\u001b[38;5;241m.\u001b[39mLOGGER\u001b[38;5;241m.\u001b[39mdebug(\u001b[38;5;124m\"\u001b[39m\u001b[38;5;124mCommand attempt #\u001b[39m\u001b[38;5;132;01m{}\u001b[39;00m\u001b[38;5;124m failed for command: \u001b[39m\u001b[38;5;124m'\u001b[39m\u001b[38;5;132;01m{}\u001b[39;00m\u001b[38;5;124m'\u001b[39m\u001b[38;5;124m\"\u001b[39m\u001b[38;5;241m.\u001b[39mformat(i, command))\n\u001b[0;32m--> 475\u001b[0m \u001b[38;5;28;43mself\u001b[39;49m\u001b[38;5;241;43m.\u001b[39;49m\u001b[43mraise_result_error\u001b[49m\u001b[43m(\u001b[49m\u001b[43mcommand\u001b[49m\u001b[43m,\u001b[49m\u001b[43m \u001b[49m\u001b[43mresponse\u001b[49m\u001b[43m)\u001b[49m\n\u001b[1;32m    476\u001b[0m \u001b[38;5;28;01mreturn\u001b[39;00m \u001b[38;5;28;01mFalse\u001b[39;00m\n",
      "File \u001b[0;32m~/TOC/choppytorch/DJITelloPy/djitellopy/enforce_types.py:54\u001b[0m, in \u001b[0;36menforce_types.<locals>.decorate.<locals>.wrapper\u001b[0;34m(*args, **kwargs)\u001b[0m\n\u001b[1;32m     51\u001b[0m \u001b[38;5;129m@wraps\u001b[39m(func)\n\u001b[1;32m     52\u001b[0m \u001b[38;5;28;01mdef\u001b[39;00m \u001b[38;5;21mwrapper\u001b[39m(\u001b[38;5;241m*\u001b[39margs, \u001b[38;5;241m*\u001b[39m\u001b[38;5;241m*\u001b[39mkwargs):\n\u001b[1;32m     53\u001b[0m     check_types(spec, \u001b[38;5;241m*\u001b[39margs, \u001b[38;5;241m*\u001b[39m\u001b[38;5;241m*\u001b[39mkwargs)\n\u001b[0;32m---> 54\u001b[0m     \u001b[38;5;28;01mreturn\u001b[39;00m \u001b[43mfunc\u001b[49m\u001b[43m(\u001b[49m\u001b[38;5;241;43m*\u001b[39;49m\u001b[43margs\u001b[49m\u001b[43m,\u001b[49m\u001b[43m \u001b[49m\u001b[38;5;241;43m*\u001b[39;49m\u001b[38;5;241;43m*\u001b[39;49m\u001b[43mkwargs\u001b[49m\u001b[43m)\u001b[49m\n",
      "File \u001b[0;32m~/TOC/choppytorch/DJITelloPy/djitellopy/tello.py:517\u001b[0m, in \u001b[0;36mTello.raise_result_error\u001b[0;34m(self, command, response)\u001b[0m\n\u001b[1;32m    513\u001b[0m \u001b[38;5;124;03m\"\"\"Used to reaise an error after an unsuccessful command\u001b[39;00m\n\u001b[1;32m    514\u001b[0m \u001b[38;5;124;03mInternal method, you normally wouldn't call this yourself.\u001b[39;00m\n\u001b[1;32m    515\u001b[0m \u001b[38;5;124;03m\"\"\"\u001b[39;00m\n\u001b[1;32m    516\u001b[0m tries \u001b[38;5;241m=\u001b[39m \u001b[38;5;241m1\u001b[39m \u001b[38;5;241m+\u001b[39m \u001b[38;5;28mself\u001b[39m\u001b[38;5;241m.\u001b[39mretry_count\n\u001b[0;32m--> 517\u001b[0m \u001b[38;5;28;01mraise\u001b[39;00m TelloException(\u001b[38;5;124m\"\u001b[39m\u001b[38;5;124mCommand \u001b[39m\u001b[38;5;124m'\u001b[39m\u001b[38;5;132;01m{}\u001b[39;00m\u001b[38;5;124m'\u001b[39m\u001b[38;5;124m was unsuccessful for \u001b[39m\u001b[38;5;132;01m{}\u001b[39;00m\u001b[38;5;124m tries. Latest response:\u001b[39m\u001b[38;5;130;01m\\t\u001b[39;00m\u001b[38;5;124m'\u001b[39m\u001b[38;5;132;01m{}\u001b[39;00m\u001b[38;5;124m'\u001b[39m\u001b[38;5;124m\"\u001b[39m\n\u001b[1;32m    518\u001b[0m                 \u001b[38;5;241m.\u001b[39mformat(command, tries, response))\n",
      "\u001b[0;31mTelloException\u001b[0m: Command 'command' was unsuccessful for 4 tries. Latest response:\t'Aborting command 'command'. Did not receive a response after 7 seconds'"
     ]
    }
   ],
   "source": [
    "tello = Tello()\n",
    "\n",
    "tello.connect()\n"
   ]
  },
  {
   "cell_type": "code",
   "execution_count": 22,
   "id": "5016197f-43c2-4243-afc1-39a7e9cdc625",
   "metadata": {},
   "outputs": [
    {
     "name": "stderr",
     "output_type": "stream",
     "text": [
      "[INFO] tello.py - 426 - Send command: 'takeoff'\n",
      "[INFO] tello.py - 450 - Response takeoff: 'ok'\n"
     ]
    }
   ],
   "source": [
    "tello.takeoff()"
   ]
  },
  {
   "cell_type": "code",
   "execution_count": 33,
   "id": "b62eef49-aad9-4500-97e4-382ebe1e0803",
   "metadata": {},
   "outputs": [
    {
     "name": "stderr",
     "output_type": "stream",
     "text": [
      "[INFO] tello.py - 426 - Send command: 'land'\n",
      "[INFO] tello.py - 450 - Response land: 'ok'\n",
      "error while decoding MB 0 29, bytestream -8\n",
      "error while decoding MB 28 43, bytestream -12\n"
     ]
    }
   ],
   "source": [
    "tello.land()"
   ]
  },
  {
   "cell_type": "code",
   "execution_count": 32,
   "id": "67c3545b-5c8b-446e-9ebb-05611062feee",
   "metadata": {},
   "outputs": [
    {
     "name": "stderr",
     "output_type": "stream",
     "text": [
      "[INFO] tello.py - 426 - Send command: 'takeoff'\n",
      "[INFO] tello.py - 450 - Response takeoff: 'ok'\n",
      "[INFO] tello.py - 426 - Send command: 'cw 450'\n",
      "[INFO] tello.py - 450 - Response cw 450: 'error No valid imu'\n",
      "[INFO] tello.py - 426 - Send command: 'cw 450'\n",
      "[INFO] tello.py - 450 - Response cw 450: 'error No valid imu'\n",
      "[INFO] tello.py - 426 - Send command: 'cw 450'\n",
      "[INFO] tello.py - 450 - Response cw 450: 'error No valid imu'\n"
     ]
    },
    {
     "ename": "TelloException",
     "evalue": "Command 'cw 450' was unsuccessful for 4 tries. Latest response:\t'error No valid imu'",
     "output_type": "error",
     "traceback": [
      "\u001b[0;31m---------------------------------------------------------------------------\u001b[0m",
      "\u001b[0;31mTelloException\u001b[0m                            Traceback (most recent call last)",
      "Input \u001b[0;32mIn [32]\u001b[0m, in \u001b[0;36m<cell line: 3>\u001b[0;34m()\u001b[0m\n\u001b[1;32m      1\u001b[0m tello\u001b[38;5;241m.\u001b[39mtakeoff()\n\u001b[1;32m      2\u001b[0m \u001b[38;5;66;03m# tello.move_left(100)\u001b[39;00m\n\u001b[0;32m----> 3\u001b[0m \u001b[43mtello\u001b[49m\u001b[38;5;241;43m.\u001b[39;49m\u001b[43mrotate_clockwise\u001b[49m\u001b[43m(\u001b[49m\u001b[38;5;241;43m90\u001b[39;49m\u001b[38;5;241;43m*\u001b[39;49m\u001b[38;5;241;43m5\u001b[39;49m\u001b[43m)\u001b[49m\n\u001b[1;32m      4\u001b[0m \u001b[38;5;66;03m# tello.move_forward(100)\u001b[39;00m\n\u001b[1;32m      6\u001b[0m tello\u001b[38;5;241m.\u001b[39mland()\n",
      "File \u001b[0;32m~/TOC/choppytorch/DJITelloPy/djitellopy/enforce_types.py:54\u001b[0m, in \u001b[0;36menforce_types.<locals>.decorate.<locals>.wrapper\u001b[0;34m(*args, **kwargs)\u001b[0m\n\u001b[1;32m     51\u001b[0m \u001b[38;5;129m@wraps\u001b[39m(func)\n\u001b[1;32m     52\u001b[0m \u001b[38;5;28;01mdef\u001b[39;00m \u001b[38;5;21mwrapper\u001b[39m(\u001b[38;5;241m*\u001b[39margs, \u001b[38;5;241m*\u001b[39m\u001b[38;5;241m*\u001b[39mkwargs):\n\u001b[1;32m     53\u001b[0m     check_types(spec, \u001b[38;5;241m*\u001b[39margs, \u001b[38;5;241m*\u001b[39m\u001b[38;5;241m*\u001b[39mkwargs)\n\u001b[0;32m---> 54\u001b[0m     \u001b[38;5;28;01mreturn\u001b[39;00m \u001b[43mfunc\u001b[49m\u001b[43m(\u001b[49m\u001b[38;5;241;43m*\u001b[39;49m\u001b[43margs\u001b[49m\u001b[43m,\u001b[49m\u001b[43m \u001b[49m\u001b[38;5;241;43m*\u001b[39;49m\u001b[38;5;241;43m*\u001b[39;49m\u001b[43mkwargs\u001b[49m\u001b[43m)\u001b[49m\n",
      "File \u001b[0;32m~/TOC/choppytorch/DJITelloPy/djitellopy/tello.py:654\u001b[0m, in \u001b[0;36mTello.rotate_clockwise\u001b[0;34m(self, x)\u001b[0m\n\u001b[1;32m    649\u001b[0m \u001b[38;5;28;01mdef\u001b[39;00m \u001b[38;5;21mrotate_clockwise\u001b[39m(\u001b[38;5;28mself\u001b[39m, x: \u001b[38;5;28mint\u001b[39m):\n\u001b[1;32m    650\u001b[0m     \u001b[38;5;124;03m\"\"\"Rotate x degree clockwise.\u001b[39;00m\n\u001b[1;32m    651\u001b[0m \u001b[38;5;124;03m    Arguments:\u001b[39;00m\n\u001b[1;32m    652\u001b[0m \u001b[38;5;124;03m        x: 1-360\u001b[39;00m\n\u001b[1;32m    653\u001b[0m \u001b[38;5;124;03m    \"\"\"\u001b[39;00m\n\u001b[0;32m--> 654\u001b[0m     \u001b[38;5;28;43mself\u001b[39;49m\u001b[38;5;241;43m.\u001b[39;49m\u001b[43msend_control_command\u001b[49m\u001b[43m(\u001b[49m\u001b[38;5;124;43m\"\u001b[39;49m\u001b[38;5;124;43mcw \u001b[39;49m\u001b[38;5;132;43;01m{}\u001b[39;49;00m\u001b[38;5;124;43m\"\u001b[39;49m\u001b[38;5;241;43m.\u001b[39;49m\u001b[43mformat\u001b[49m\u001b[43m(\u001b[49m\u001b[43mx\u001b[49m\u001b[43m)\u001b[49m\u001b[43m)\u001b[49m\n",
      "File \u001b[0;32m~/TOC/choppytorch/DJITelloPy/djitellopy/enforce_types.py:54\u001b[0m, in \u001b[0;36menforce_types.<locals>.decorate.<locals>.wrapper\u001b[0;34m(*args, **kwargs)\u001b[0m\n\u001b[1;32m     51\u001b[0m \u001b[38;5;129m@wraps\u001b[39m(func)\n\u001b[1;32m     52\u001b[0m \u001b[38;5;28;01mdef\u001b[39;00m \u001b[38;5;21mwrapper\u001b[39m(\u001b[38;5;241m*\u001b[39margs, \u001b[38;5;241m*\u001b[39m\u001b[38;5;241m*\u001b[39mkwargs):\n\u001b[1;32m     53\u001b[0m     check_types(spec, \u001b[38;5;241m*\u001b[39margs, \u001b[38;5;241m*\u001b[39m\u001b[38;5;241m*\u001b[39mkwargs)\n\u001b[0;32m---> 54\u001b[0m     \u001b[38;5;28;01mreturn\u001b[39;00m \u001b[43mfunc\u001b[49m\u001b[43m(\u001b[49m\u001b[38;5;241;43m*\u001b[39;49m\u001b[43margs\u001b[49m\u001b[43m,\u001b[49m\u001b[43m \u001b[49m\u001b[38;5;241;43m*\u001b[39;49m\u001b[38;5;241;43m*\u001b[39;49m\u001b[43mkwargs\u001b[49m\u001b[43m)\u001b[49m\n",
      "File \u001b[0;32m~/TOC/choppytorch/DJITelloPy/djitellopy/tello.py:475\u001b[0m, in \u001b[0;36mTello.send_control_command\u001b[0;34m(self, command, timeout)\u001b[0m\n\u001b[1;32m    471\u001b[0m         \u001b[38;5;28;01mreturn\u001b[39;00m \u001b[38;5;28;01mTrue\u001b[39;00m\n\u001b[1;32m    473\u001b[0m     \u001b[38;5;28mself\u001b[39m\u001b[38;5;241m.\u001b[39mLOGGER\u001b[38;5;241m.\u001b[39mdebug(\u001b[38;5;124m\"\u001b[39m\u001b[38;5;124mCommand attempt #\u001b[39m\u001b[38;5;132;01m{}\u001b[39;00m\u001b[38;5;124m failed for command: \u001b[39m\u001b[38;5;124m'\u001b[39m\u001b[38;5;132;01m{}\u001b[39;00m\u001b[38;5;124m'\u001b[39m\u001b[38;5;124m\"\u001b[39m\u001b[38;5;241m.\u001b[39mformat(i, command))\n\u001b[0;32m--> 475\u001b[0m \u001b[38;5;28;43mself\u001b[39;49m\u001b[38;5;241;43m.\u001b[39;49m\u001b[43mraise_result_error\u001b[49m\u001b[43m(\u001b[49m\u001b[43mcommand\u001b[49m\u001b[43m,\u001b[49m\u001b[43m \u001b[49m\u001b[43mresponse\u001b[49m\u001b[43m)\u001b[49m\n\u001b[1;32m    476\u001b[0m \u001b[38;5;28;01mreturn\u001b[39;00m \u001b[38;5;28;01mFalse\u001b[39;00m\n",
      "File \u001b[0;32m~/TOC/choppytorch/DJITelloPy/djitellopy/enforce_types.py:54\u001b[0m, in \u001b[0;36menforce_types.<locals>.decorate.<locals>.wrapper\u001b[0;34m(*args, **kwargs)\u001b[0m\n\u001b[1;32m     51\u001b[0m \u001b[38;5;129m@wraps\u001b[39m(func)\n\u001b[1;32m     52\u001b[0m \u001b[38;5;28;01mdef\u001b[39;00m \u001b[38;5;21mwrapper\u001b[39m(\u001b[38;5;241m*\u001b[39margs, \u001b[38;5;241m*\u001b[39m\u001b[38;5;241m*\u001b[39mkwargs):\n\u001b[1;32m     53\u001b[0m     check_types(spec, \u001b[38;5;241m*\u001b[39margs, \u001b[38;5;241m*\u001b[39m\u001b[38;5;241m*\u001b[39mkwargs)\n\u001b[0;32m---> 54\u001b[0m     \u001b[38;5;28;01mreturn\u001b[39;00m \u001b[43mfunc\u001b[49m\u001b[43m(\u001b[49m\u001b[38;5;241;43m*\u001b[39;49m\u001b[43margs\u001b[49m\u001b[43m,\u001b[49m\u001b[43m \u001b[49m\u001b[38;5;241;43m*\u001b[39;49m\u001b[38;5;241;43m*\u001b[39;49m\u001b[43mkwargs\u001b[49m\u001b[43m)\u001b[49m\n",
      "File \u001b[0;32m~/TOC/choppytorch/DJITelloPy/djitellopy/tello.py:517\u001b[0m, in \u001b[0;36mTello.raise_result_error\u001b[0;34m(self, command, response)\u001b[0m\n\u001b[1;32m    513\u001b[0m \u001b[38;5;124;03m\"\"\"Used to reaise an error after an unsuccessful command\u001b[39;00m\n\u001b[1;32m    514\u001b[0m \u001b[38;5;124;03mInternal method, you normally wouldn't call this yourself.\u001b[39;00m\n\u001b[1;32m    515\u001b[0m \u001b[38;5;124;03m\"\"\"\u001b[39;00m\n\u001b[1;32m    516\u001b[0m tries \u001b[38;5;241m=\u001b[39m \u001b[38;5;241m1\u001b[39m \u001b[38;5;241m+\u001b[39m \u001b[38;5;28mself\u001b[39m\u001b[38;5;241m.\u001b[39mretry_count\n\u001b[0;32m--> 517\u001b[0m \u001b[38;5;28;01mraise\u001b[39;00m TelloException(\u001b[38;5;124m\"\u001b[39m\u001b[38;5;124mCommand \u001b[39m\u001b[38;5;124m'\u001b[39m\u001b[38;5;132;01m{}\u001b[39;00m\u001b[38;5;124m'\u001b[39m\u001b[38;5;124m was unsuccessful for \u001b[39m\u001b[38;5;132;01m{}\u001b[39;00m\u001b[38;5;124m tries. Latest response:\u001b[39m\u001b[38;5;130;01m\\t\u001b[39;00m\u001b[38;5;124m'\u001b[39m\u001b[38;5;132;01m{}\u001b[39;00m\u001b[38;5;124m'\u001b[39m\u001b[38;5;124m\"\u001b[39m\n\u001b[1;32m    518\u001b[0m                 \u001b[38;5;241m.\u001b[39mformat(command, tries, response))\n",
      "\u001b[0;31mTelloException\u001b[0m: Command 'cw 450' was unsuccessful for 4 tries. Latest response:\t'error No valid imu'"
     ]
    }
   ],
   "source": [
    "\n",
    "tello.takeoff()\n",
    "# tello.move_left(100)\n",
    "tello.rotate_clockwise(90*5)\n",
    "# tello.move_forward(100)\n",
    "\n",
    "tello.land()"
   ]
  },
  {
   "cell_type": "code",
   "execution_count": null,
   "id": "870cf44e-3ebb-43dc-a473-f9537f28d50f",
   "metadata": {},
   "outputs": [],
   "source": []
  },
  {
   "cell_type": "code",
   "execution_count": 31,
   "id": "2a208ce8-a8c2-47ad-a441-03eabc008945",
   "metadata": {},
   "outputs": [
    {
     "name": "stderr",
     "output_type": "stream",
     "text": [
      "[INFO] tello.py - 426 - Send command: 'land'\n",
      "[INFO] tello.py - 450 - Response land: 'ok'\n"
     ]
    }
   ],
   "source": [
    "tello.land()"
   ]
  },
  {
   "cell_type": "code",
   "execution_count": 1,
   "id": "475818af-81cd-4027-a50e-004b89093d2a",
   "metadata": {},
   "outputs": [
    {
     "name": "stderr",
     "output_type": "stream",
     "text": [
      "[INFO] tello.py - 126 - Tello instance was initialized. Host: '192.168.10.1'. Port: '8889'.\n",
      "[INFO] tello.py - 426 - Send command: 'command'\n",
      "[INFO] tello.py - 450 - Response command: 'ok'\n",
      "[INFO] tello.py - 426 - Send command: 'streamon'\n",
      "[INFO] tello.py - 450 - Response streamon: 'ok'\n",
      "non-existing PPS 0 referenced\n",
      "non-existing PPS 0 referenced\n",
      "decode_slice_header error\n",
      "no frame!\n",
      "non-existing PPS 0 referenced\n",
      "non-existing PPS 0 referenced\n",
      "decode_slice_header error\n",
      "no frame!\n",
      "non-existing PPS 0 referenced\n",
      "non-existing PPS 0 referenced\n",
      "decode_slice_header error\n",
      "no frame!\n",
      "non-existing PPS 0 referenced\n",
      "non-existing PPS 0 referenced\n",
      "decode_slice_header error\n",
      "no frame!\n",
      "non-existing PPS 0 referenced\n",
      "non-existing PPS 0 referenced\n",
      "decode_slice_header error\n",
      "no frame!\n",
      "non-existing PPS 0 referenced\n",
      "non-existing PPS 0 referenced\n",
      "decode_slice_header error\n",
      "no frame!\n",
      "non-existing PPS 0 referenced\n",
      "non-existing PPS 0 referenced\n",
      "decode_slice_header error\n",
      "no frame!\n",
      "non-existing PPS 0 referenced\n",
      "non-existing PPS 0 referenced\n",
      "decode_slice_header error\n",
      "no frame!\n",
      "non-existing PPS 0 referenced\n",
      "non-existing PPS 0 referenced\n",
      "decode_slice_header error\n",
      "no frame!\n",
      "non-existing PPS 0 referenced\n",
      "non-existing PPS 0 referenced\n",
      "decode_slice_header error\n",
      "no frame!\n",
      "non-existing PPS 0 referenced\n",
      "non-existing PPS 0 referenced\n",
      "decode_slice_header error\n",
      "no frame!\n",
      "non-existing PPS 0 referenced\n",
      "non-existing PPS 0 referenced\n",
      "decode_slice_header error\n",
      "no frame!\n",
      "non-existing PPS 0 referenced\n",
      "non-existing PPS 0 referenced\n",
      "decode_slice_header error\n",
      "no frame!\n",
      "non-existing PPS 0 referenced\n",
      "non-existing PPS 0 referenced\n",
      "decode_slice_header error\n",
      "no frame!\n",
      "non-existing PPS 0 referenced\n",
      "non-existing PPS 0 referenced\n",
      "decode_slice_header error\n",
      "no frame!\n",
      "non-existing PPS 0 referenced\n",
      "non-existing PPS 0 referenced\n",
      "decode_slice_header error\n",
      "no frame!\n",
      "non-existing PPS 0 referenced\n",
      "non-existing PPS 0 referenced\n",
      "decode_slice_header error\n",
      "no frame!\n",
      "error while decoding MB 54 38, bytestream -6\n",
      "[INFO] tello.py - 426 - Send command: 'takeoff'\n",
      "left block unavailable for requested intra mode\n",
      "error while decoding MB 0 33, bytestream 250\n",
      "error while decoding MB 9 44, bytestream -8\n",
      "left block unavailable for requested intra mode\n",
      "error while decoding MB 0 28, bytestream 1458\n",
      "error while decoding MB 54 38, bytestream -6\n",
      "error while decoding MB 2 44, bytestream -6\n",
      "[INFO] tello.py - 450 - Response takeoff: 'ok'\n",
      "[INFO] tello.py - 426 - Send command: 'ccw 30'\n",
      "[INFO] tello.py - 450 - Response ccw 30: 'ok'\n",
      "[INFO] tello.py - 426 - Send command: 'ccw 30'\n",
      "[INFO] tello.py - 450 - Response ccw 30: 'ok'\n",
      "[INFO] tello.py - 426 - Send command: 'ccw 30'\n",
      "[INFO] tello.py - 450 - Response ccw 30: 'ok'\n",
      "[INFO] tello.py - 426 - Send command: 'ccw 30'\n",
      "[INFO] tello.py - 450 - Response ccw 30: 'ok'\n",
      "left block unavailable for requested intra mode\n",
      "error while decoding MB 0 30, bytestream 2430\n",
      "[INFO] tello.py - 426 - Send command: 'left 30'\n",
      "[INFO] tello.py - 450 - Response left 30: 'ok'\n",
      "[INFO] tello.py - 426 - Send command: 'back 30'\n",
      "[INFO] tello.py - 450 - Response back 30: 'ok'\n",
      "[INFO] tello.py - 426 - Send command: 'left 30'\n",
      "[INFO] tello.py - 450 - Response left 30: 'ok'\n",
      "[INFO] tello.py - 426 - Send command: 'right 30'\n",
      "[INFO] tello.py - 450 - Response right 30: 'ok'\n",
      "[INFO] tello.py - 426 - Send command: 'left 30'\n",
      "[INFO] tello.py - 450 - Response left 30: 'ok'\n",
      "[INFO] tello.py - 426 - Send command: 'land'\n",
      "[INFO] tello.py - 450 - Response land: 'ok'\n",
      "[INFO] tello.py - 426 - Send command: 'takeoff'\n",
      "[INFO] tello.py - 450 - Response takeoff: 'ok'\n",
      "[INFO] tello.py - 426 - Send command: 'land'\n",
      "[INFO] tello.py - 450 - Response land: 'ok'\n",
      "[INFO] tello.py - 426 - Send command: 'takeoff'\n",
      "[INFO] tello.py - 450 - Response takeoff: 'ok'\n",
      "[INFO] tello.py - 426 - Send command: 'cw 30'\n",
      "[INFO] tello.py - 450 - Response cw 30: 'ok'\n",
      "[INFO] tello.py - 426 - Send command: 'cw 30'\n",
      "[INFO] tello.py - 450 - Response cw 30: 'ok'\n",
      "[INFO] tello.py - 426 - Send command: 'cw 30'\n",
      "[INFO] tello.py - 450 - Response cw 30: 'ok'\n",
      "[INFO] tello.py - 426 - Send command: 'forward 30'\n",
      "[INFO] tello.py - 450 - Response forward 30: 'ok'\n",
      "[INFO] tello.py - 426 - Send command: 'forward 30'\n",
      "[INFO] tello.py - 450 - Response forward 30: 'ok'\n",
      "[INFO] tello.py - 426 - Send command: 'forward 30'\n",
      "[INFO] tello.py - 450 - Response forward 30: 'ok'\n",
      "[INFO] tello.py - 426 - Send command: 'forward 30'\n",
      "[INFO] tello.py - 450 - Response forward 30: 'ok'\n",
      "[INFO] tello.py - 426 - Send command: 'forward 30'\n",
      "[INFO] tello.py - 450 - Response forward 30: 'ok'\n",
      "[INFO] tello.py - 426 - Send command: 'forward 30'\n",
      "[INFO] tello.py - 450 - Response forward 30: 'ok'\n",
      "[INFO] tello.py - 426 - Send command: 'left 30'\n",
      "[INFO] tello.py - 450 - Response left 30: 'ok'\n",
      "[INFO] tello.py - 426 - Send command: 'forward 30'\n",
      "[INFO] tello.py - 450 - Response forward 30: 'ok'\n",
      "[INFO] tello.py - 426 - Send command: 'forward 30'\n",
      "[INFO] tello.py - 450 - Response forward 30: 'ok'\n",
      "[INFO] tello.py - 426 - Send command: 'forward 30'\n",
      "[INFO] tello.py - 450 - Response forward 30: 'ok'\n",
      "[INFO] tello.py - 426 - Send command: 'land'\n",
      "[INFO] tello.py - 450 - Response land: 'ok'\n",
      "[INFO] tello.py - 426 - Send command: 'takeoff'\n",
      "[INFO] tello.py - 450 - Response takeoff: 'ok'\n",
      "[INFO] tello.py - 426 - Send command: 'ccw 30'\n",
      "[INFO] tello.py - 450 - Response ccw 30: 'ok'\n",
      "[INFO] tello.py - 426 - Send command: 'ccw 30'\n",
      "[INFO] tello.py - 450 - Response ccw 30: 'ok'\n",
      "[INFO] tello.py - 426 - Send command: 'ccw 30'\n",
      "[INFO] tello.py - 450 - Response ccw 30: 'ok'\n",
      "[INFO] tello.py - 426 - Send command: 'ccw 30'\n",
      "[INFO] tello.py - 450 - Response ccw 30: 'ok'\n",
      "[INFO] tello.py - 426 - Send command: 'ccw 30'\n",
      "[INFO] tello.py - 450 - Response ccw 30: 'ok'\n",
      "[INFO] tello.py - 426 - Send command: 'ccw 30'\n",
      "[INFO] tello.py - 450 - Response ccw 30: 'ok'\n",
      "[INFO] tello.py - 426 - Send command: 'forward 30'\n",
      "[INFO] tello.py - 450 - Response forward 30: 'ok'\n",
      "[INFO] tello.py - 426 - Send command: 'forward 30'\n",
      "[INFO] tello.py - 450 - Response forward 30: 'ok'\n",
      "[INFO] tello.py - 426 - Send command: 'forward 30'\n",
      "[INFO] tello.py - 450 - Response forward 30: 'ok'\n",
      "[INFO] tello.py - 426 - Send command: 'forward 30'\n",
      "[INFO] tello.py - 450 - Response forward 30: 'ok'\n",
      "[INFO] tello.py - 426 - Send command: 'forward 30'\n",
      "[INFO] tello.py - 450 - Response forward 30: 'ok'\n",
      "[INFO] tello.py - 426 - Send command: 'right 30'\n",
      "[INFO] tello.py - 450 - Response right 30: 'ok'\n",
      "[INFO] tello.py - 426 - Send command: 'right 30'\n",
      "[INFO] tello.py - 450 - Response right 30: 'ok'\n",
      "[INFO] tello.py - 426 - Send command: 'forward 30'\n",
      "[INFO] tello.py - 450 - Response forward 30: 'ok'\n",
      "[INFO] tello.py - 426 - Send command: 'forward 30'\n",
      "[INFO] tello.py - 450 - Response forward 30: 'ok'\n",
      "[INFO] tello.py - 426 - Send command: 'forward 30'\n",
      "[INFO] tello.py - 450 - Response forward 30: 'ok'\n",
      "cabac decode of qscale diff failed at 54 22\n",
      "error while decoding MB 54 22, bytestream 3338\n",
      "[INFO] tello.py - 426 - Send command: 'left 30'\n",
      "[INFO] tello.py - 450 - Response left 30: 'ok'\n",
      "[INFO] tello.py - 426 - Send command: 'left 30'\n",
      "[INFO] tello.py - 450 - Response left 30: 'ok'\n",
      "[INFO] tello.py - 426 - Send command: 'cw 30'\n",
      "[INFO] tello.py - 450 - Response cw 30: 'ok'\n",
      "[INFO] tello.py - 426 - Send command: 'cw 30'\n",
      "[INFO] tello.py - 450 - Response cw 30: 'ok'\n",
      "[INFO] tello.py - 426 - Send command: 'cw 30'\n",
      "[INFO] tello.py - 450 - Response cw 30: 'ok'\n",
      "[INFO] tello.py - 426 - Send command: 'back 30'\n",
      "[INFO] tello.py - 450 - Response back 30: 'ok'\n",
      "[INFO] tello.py - 426 - Send command: 'back 30'\n",
      "[INFO] tello.py - 450 - Response back 30: 'ok'\n",
      "[INFO] tello.py - 426 - Send command: 'land'\n",
      "[INFO] tello.py - 450 - Response land: 'ok'\n",
      "[INFO] tello.py - 426 - Send command: 'land'\n",
      "[INFO] tello.py - 450 - Response land: 'error'\n",
      "[INFO] tello.py - 426 - Send command: 'land'\n",
      "[INFO] tello.py - 450 - Response land: 'error'\n",
      "[INFO] tello.py - 426 - Send command: 'land'\n",
      "[INFO] tello.py - 450 - Response land: 'error'\n"
     ]
    },
    {
     "ename": "TelloException",
     "evalue": "Command 'land' was unsuccessful for 4 tries. Latest response:\t'error'",
     "output_type": "error",
     "traceback": [
      "\u001b[0;31m---------------------------------------------------------------------------\u001b[0m",
      "\u001b[0;31mTelloException\u001b[0m                            Traceback (most recent call last)",
      "Input \u001b[0;32mIn [1]\u001b[0m, in \u001b[0;36m<cell line: 60>\u001b[0;34m()\u001b[0m\n\u001b[1;32m     57\u001b[0m         \u001b[38;5;28;01mexcept\u001b[39;00m TelloException \u001b[38;5;28;01mas\u001b[39;00m ex:\n\u001b[1;32m     58\u001b[0m             \u001b[38;5;28;01mpass\u001b[39;00m\n\u001b[0;32m---> 60\u001b[0m \u001b[43mtello\u001b[49m\u001b[38;5;241;43m.\u001b[39;49m\u001b[43mland\u001b[49m\u001b[43m(\u001b[49m\u001b[43m)\u001b[49m\n",
      "File \u001b[0;32m~/TOC/choppytorch/DJITelloPy/djitellopy/enforce_types.py:54\u001b[0m, in \u001b[0;36menforce_types.<locals>.decorate.<locals>.wrapper\u001b[0;34m(*args, **kwargs)\u001b[0m\n\u001b[1;32m     51\u001b[0m \u001b[38;5;129m@wraps\u001b[39m(func)\n\u001b[1;32m     52\u001b[0m \u001b[38;5;28;01mdef\u001b[39;00m \u001b[38;5;21mwrapper\u001b[39m(\u001b[38;5;241m*\u001b[39margs, \u001b[38;5;241m*\u001b[39m\u001b[38;5;241m*\u001b[39mkwargs):\n\u001b[1;32m     53\u001b[0m     check_types(spec, \u001b[38;5;241m*\u001b[39margs, \u001b[38;5;241m*\u001b[39m\u001b[38;5;241m*\u001b[39mkwargs)\n\u001b[0;32m---> 54\u001b[0m     \u001b[38;5;28;01mreturn\u001b[39;00m \u001b[43mfunc\u001b[49m\u001b[43m(\u001b[49m\u001b[38;5;241;43m*\u001b[39;49m\u001b[43margs\u001b[49m\u001b[43m,\u001b[49m\u001b[43m \u001b[49m\u001b[38;5;241;43m*\u001b[39;49m\u001b[38;5;241;43m*\u001b[39;49m\u001b[43mkwargs\u001b[49m\u001b[43m)\u001b[49m\n",
      "File \u001b[0;32m~/TOC/choppytorch/DJITelloPy/djitellopy/tello.py:569\u001b[0m, in \u001b[0;36mTello.land\u001b[0;34m(self)\u001b[0m\n\u001b[1;32m    566\u001b[0m \u001b[38;5;28;01mdef\u001b[39;00m \u001b[38;5;21mland\u001b[39m(\u001b[38;5;28mself\u001b[39m):\n\u001b[1;32m    567\u001b[0m     \u001b[38;5;124;03m\"\"\"Automatic landing.\u001b[39;00m\n\u001b[1;32m    568\u001b[0m \u001b[38;5;124;03m    \"\"\"\u001b[39;00m\n\u001b[0;32m--> 569\u001b[0m     \u001b[38;5;28;43mself\u001b[39;49m\u001b[38;5;241;43m.\u001b[39;49m\u001b[43msend_control_command\u001b[49m\u001b[43m(\u001b[49m\u001b[38;5;124;43m\"\u001b[39;49m\u001b[38;5;124;43mland\u001b[39;49m\u001b[38;5;124;43m\"\u001b[39;49m\u001b[43m)\u001b[49m\n\u001b[1;32m    570\u001b[0m     \u001b[38;5;28mself\u001b[39m\u001b[38;5;241m.\u001b[39mis_flying \u001b[38;5;241m=\u001b[39m \u001b[38;5;28;01mFalse\u001b[39;00m\n",
      "File \u001b[0;32m~/TOC/choppytorch/DJITelloPy/djitellopy/enforce_types.py:54\u001b[0m, in \u001b[0;36menforce_types.<locals>.decorate.<locals>.wrapper\u001b[0;34m(*args, **kwargs)\u001b[0m\n\u001b[1;32m     51\u001b[0m \u001b[38;5;129m@wraps\u001b[39m(func)\n\u001b[1;32m     52\u001b[0m \u001b[38;5;28;01mdef\u001b[39;00m \u001b[38;5;21mwrapper\u001b[39m(\u001b[38;5;241m*\u001b[39margs, \u001b[38;5;241m*\u001b[39m\u001b[38;5;241m*\u001b[39mkwargs):\n\u001b[1;32m     53\u001b[0m     check_types(spec, \u001b[38;5;241m*\u001b[39margs, \u001b[38;5;241m*\u001b[39m\u001b[38;5;241m*\u001b[39mkwargs)\n\u001b[0;32m---> 54\u001b[0m     \u001b[38;5;28;01mreturn\u001b[39;00m \u001b[43mfunc\u001b[49m\u001b[43m(\u001b[49m\u001b[38;5;241;43m*\u001b[39;49m\u001b[43margs\u001b[49m\u001b[43m,\u001b[49m\u001b[43m \u001b[49m\u001b[38;5;241;43m*\u001b[39;49m\u001b[38;5;241;43m*\u001b[39;49m\u001b[43mkwargs\u001b[49m\u001b[43m)\u001b[49m\n",
      "File \u001b[0;32m~/TOC/choppytorch/DJITelloPy/djitellopy/tello.py:475\u001b[0m, in \u001b[0;36mTello.send_control_command\u001b[0;34m(self, command, timeout)\u001b[0m\n\u001b[1;32m    471\u001b[0m         \u001b[38;5;28;01mreturn\u001b[39;00m \u001b[38;5;28;01mTrue\u001b[39;00m\n\u001b[1;32m    473\u001b[0m     \u001b[38;5;28mself\u001b[39m\u001b[38;5;241m.\u001b[39mLOGGER\u001b[38;5;241m.\u001b[39mdebug(\u001b[38;5;124m\"\u001b[39m\u001b[38;5;124mCommand attempt #\u001b[39m\u001b[38;5;132;01m{}\u001b[39;00m\u001b[38;5;124m failed for command: \u001b[39m\u001b[38;5;124m'\u001b[39m\u001b[38;5;132;01m{}\u001b[39;00m\u001b[38;5;124m'\u001b[39m\u001b[38;5;124m\"\u001b[39m\u001b[38;5;241m.\u001b[39mformat(i, command))\n\u001b[0;32m--> 475\u001b[0m \u001b[38;5;28;43mself\u001b[39;49m\u001b[38;5;241;43m.\u001b[39;49m\u001b[43mraise_result_error\u001b[49m\u001b[43m(\u001b[49m\u001b[43mcommand\u001b[49m\u001b[43m,\u001b[49m\u001b[43m \u001b[49m\u001b[43mresponse\u001b[49m\u001b[43m)\u001b[49m\n\u001b[1;32m    476\u001b[0m \u001b[38;5;28;01mreturn\u001b[39;00m \u001b[38;5;28;01mFalse\u001b[39;00m\n",
      "File \u001b[0;32m~/TOC/choppytorch/DJITelloPy/djitellopy/enforce_types.py:54\u001b[0m, in \u001b[0;36menforce_types.<locals>.decorate.<locals>.wrapper\u001b[0;34m(*args, **kwargs)\u001b[0m\n\u001b[1;32m     51\u001b[0m \u001b[38;5;129m@wraps\u001b[39m(func)\n\u001b[1;32m     52\u001b[0m \u001b[38;5;28;01mdef\u001b[39;00m \u001b[38;5;21mwrapper\u001b[39m(\u001b[38;5;241m*\u001b[39margs, \u001b[38;5;241m*\u001b[39m\u001b[38;5;241m*\u001b[39mkwargs):\n\u001b[1;32m     53\u001b[0m     check_types(spec, \u001b[38;5;241m*\u001b[39margs, \u001b[38;5;241m*\u001b[39m\u001b[38;5;241m*\u001b[39mkwargs)\n\u001b[0;32m---> 54\u001b[0m     \u001b[38;5;28;01mreturn\u001b[39;00m \u001b[43mfunc\u001b[49m\u001b[43m(\u001b[49m\u001b[38;5;241;43m*\u001b[39;49m\u001b[43margs\u001b[49m\u001b[43m,\u001b[49m\u001b[43m \u001b[49m\u001b[38;5;241;43m*\u001b[39;49m\u001b[38;5;241;43m*\u001b[39;49m\u001b[43mkwargs\u001b[49m\u001b[43m)\u001b[49m\n",
      "File \u001b[0;32m~/TOC/choppytorch/DJITelloPy/djitellopy/tello.py:517\u001b[0m, in \u001b[0;36mTello.raise_result_error\u001b[0;34m(self, command, response)\u001b[0m\n\u001b[1;32m    513\u001b[0m \u001b[38;5;124;03m\"\"\"Used to reaise an error after an unsuccessful command\u001b[39;00m\n\u001b[1;32m    514\u001b[0m \u001b[38;5;124;03mInternal method, you normally wouldn't call this yourself.\u001b[39;00m\n\u001b[1;32m    515\u001b[0m \u001b[38;5;124;03m\"\"\"\u001b[39;00m\n\u001b[1;32m    516\u001b[0m tries \u001b[38;5;241m=\u001b[39m \u001b[38;5;241m1\u001b[39m \u001b[38;5;241m+\u001b[39m \u001b[38;5;28mself\u001b[39m\u001b[38;5;241m.\u001b[39mretry_count\n\u001b[0;32m--> 517\u001b[0m \u001b[38;5;28;01mraise\u001b[39;00m TelloException(\u001b[38;5;124m\"\u001b[39m\u001b[38;5;124mCommand \u001b[39m\u001b[38;5;124m'\u001b[39m\u001b[38;5;132;01m{}\u001b[39;00m\u001b[38;5;124m'\u001b[39m\u001b[38;5;124m was unsuccessful for \u001b[39m\u001b[38;5;132;01m{}\u001b[39;00m\u001b[38;5;124m tries. Latest response:\u001b[39m\u001b[38;5;130;01m\\t\u001b[39;00m\u001b[38;5;124m'\u001b[39m\u001b[38;5;132;01m{}\u001b[39;00m\u001b[38;5;124m'\u001b[39m\u001b[38;5;124m\"\u001b[39m\n\u001b[1;32m    518\u001b[0m                 \u001b[38;5;241m.\u001b[39mformat(command, tries, response))\n",
      "\u001b[0;31mTelloException\u001b[0m: Command 'land' was unsuccessful for 4 tries. Latest response:\t'error'"
     ]
    },
    {
     "name": "stderr",
     "output_type": "stream",
     "text": [
      "left block unavailable for requested intra mode\n",
      "error while decoding MB 0 11, bytestream 1949\n"
     ]
    }
   ],
   "source": [
    "from djitellopy import Tello\n",
    "from djitellopy.tello import TelloException\n",
    "import cv2, math, time\n",
    "\n",
    "tello = Tello()\n",
    "tello.connect()\n",
    "\n",
    "tello.streamon()\n",
    "frame_read = tello.get_frame_read()\n",
    "\n",
    "tello.takeoff()\n",
    "\n",
    "while True:\n",
    "    img = frame_read.frame\n",
    "    img = cv2.cvtColor(img, cv2.COLOR_BGR2RGB)\n",
    "    cv2.imshow(\"drone\", img)\n",
    "\n",
    "    key = cv2.waitKey(1)\n",
    "    if key == 27: # ESC\n",
    "        break\n",
    "    elif key == ord('n'):\n",
    "        tello.takeoff()\n",
    "    elif key == ord('w'):\n",
    "        try: tello.move_forward(30)\n",
    "        except TelloException as ex:\n",
    "            pass\n",
    "    elif key == ord('s'):\n",
    "        try: tello.move_back(30)\n",
    "        except TelloException as ex:\n",
    "            pass\n",
    "    elif key == ord('a'):\n",
    "        try: tello.move_left(30)\n",
    "        except TelloException as ex:\n",
    "            pass\n",
    "    elif key == ord('d'):\n",
    "        try: tello.move_right(30)\n",
    "        except TelloException as ex:\n",
    "            pass\n",
    "    elif key == ord('e'):\n",
    "        try: tello.rotate_clockwise(30)\n",
    "        except TelloException as ex:\n",
    "            pass\n",
    "    elif key == ord('q'):\n",
    "        try: tello.rotate_counter_clockwise(30)\n",
    "        except TelloException as ex:\n",
    "            pass\n",
    "    elif key == ord('r'):\n",
    "        try: tello.move_up(30)\n",
    "        except TelloException as ex:\n",
    "            pass\n",
    "    elif key == ord('f'):\n",
    "        try: tello.move_down(30)\n",
    "        except TelloException as ex:\n",
    "            pass\n",
    "    elif key == ord('b'):\n",
    "        try: tello.land()\n",
    "        except TelloException as ex:\n",
    "            pass\n",
    "\n",
    "tello.land()"
   ]
  },
  {
   "cell_type": "code",
   "execution_count": 2,
   "id": "2de4813f-8535-4930-8392-97b9fb33c6e2",
   "metadata": {},
   "outputs": [
    {
     "name": "stderr",
     "output_type": "stream",
     "text": [
      "[INFO] tello.py - 426 - Send command: 'land'\n",
      "[WARNING] tello.py - 436 - Aborting command 'land'. Did not receive a response after 7 seconds\n",
      "[INFO] tello.py - 426 - Send command: 'land'\n",
      "[INFO] tello.py - 450 - Response land: 'ok'\n"
     ]
    }
   ],
   "source": [
    "tello.land()"
   ]
  },
  {
   "cell_type": "code",
   "execution_count": null,
   "id": "e829393f-8896-4824-a1fd-a878de0eaff7",
   "metadata": {},
   "outputs": [],
   "source": []
  },
  {
   "cell_type": "code",
   "execution_count": null,
   "id": "0f8499ec-f73d-4119-90eb-3dc78d27a721",
   "metadata": {},
   "outputs": [],
   "source": []
  },
  {
   "cell_type": "code",
   "execution_count": null,
   "id": "90206309-bd94-4b76-bf5b-bcbdf6fd18b1",
   "metadata": {},
   "outputs": [],
   "source": []
  },
  {
   "cell_type": "code",
   "execution_count": null,
   "id": "04a323ee-fe4b-4d65-8dd3-251892fad2da",
   "metadata": {},
   "outputs": [],
   "source": []
  },
  {
   "cell_type": "code",
   "execution_count": 15,
   "id": "841cd9df-91db-4004-b9ec-e038ef32a1da",
   "metadata": {},
   "outputs": [],
   "source": [
    "import os\n",
    "\n",
    "\n",
    "class Finder:\n",
    "    def __init__(self, *args, **kwargs):\n",
    "        self.server_name = kwargs['server_name']\n",
    "        self.password = kwargs['password']\n",
    "        self.interface_name = kwargs['interface']\n",
    "        self.main_dict = {}\n",
    "\n",
    "    def run(self):\n",
    "        command = \"\"\"iwlist wlo1 scan | grep -ioE 'ssid:\"(.*{}.*)'\"\"\"\n",
    "        result = os.popen(command.format(self.server_name))\n",
    "        result = list(result)\n",
    "\n",
    "        if \"Device or resource busy\" in result:\n",
    "                return None\n",
    "        else:\n",
    "            ssid_list = [item.lstrip('SSID:').strip('\"\\n') for item in result]\n",
    "            print(\"Successfully get ssids {}\".format(str(ssid_list)))\n",
    "\n",
    "        for name in ssid_list:\n",
    "            try:\n",
    "                result = self.connection(name)\n",
    "            except Exception as exp:\n",
    "                print(\"Couldn't connect to name : {}. {}\".format(name, exp))\n",
    "            else:\n",
    "                if result:\n",
    "                    print(\"Successfully connected to {}\".format(name))\n",
    "\n",
    "    def connection(self, name):\n",
    "        try:\n",
    "            os.system(\"nmcli d wifi connect {} password {} iface {}\".format(name,\n",
    "       self.password,\n",
    "       self.interface_name))\n",
    "        except:\n",
    "            raise\n",
    "        else:\n",
    "            return True"
   ]
  },
  {
   "cell_type": "code",
   "execution_count": 16,
   "id": "127c2b05-986c-48f1-be08-d79356d8f327",
   "metadata": {},
   "outputs": [
    {
     "name": "stdout",
     "output_type": "stream",
     "text": [
      "Successfully get ssids ['TELLO-F09BE7']\n"
     ]
    },
    {
     "name": "stderr",
     "output_type": "stream",
     "text": [
      "Unknown parameter: wlo1\n"
     ]
    },
    {
     "name": "stdout",
     "output_type": "stream",
     "text": [
      "Error: Connection activation failed: (5) IP configuration could not be reserved (no available address, timeout, etc.).\n",
      "Successfully connected to TELLO-F09BE7\n"
     ]
    }
   ],
   "source": [
    "# Server_name is a case insensitive string, and/or regex pattern which demonstrates\n",
    "# the name of targeted WIFI device or a unique part of it.\n",
    "server_name = \"TELLO-F09BE7\"\n",
    "password = \"\"\n",
    "interface_name = \"wlo1\" # i. e wlp2s0  \n",
    "F = Finder(server_name=server_name,\n",
    "           password=password,\n",
    "           interface=interface_name)\n",
    "F.run()"
   ]
  },
  {
   "cell_type": "code",
   "execution_count": 9,
   "id": "edb8a9f2-50ac-4c91-9a9a-34a20f4ec1c2",
   "metadata": {},
   "outputs": [
    {
     "name": "stderr",
     "output_type": "stream",
     "text": [
      "Unknown parameter: none\n",
      "Error: No network with SSID 'TELLO-F09BE7' found.\n"
     ]
    },
    {
     "data": {
      "text/plain": [
       "True"
      ]
     },
     "execution_count": 9,
     "metadata": {},
     "output_type": "execute_result"
    }
   ],
   "source": [
    "F.connection(server_name)"
   ]
  },
  {
   "cell_type": "code",
   "execution_count": null,
   "id": "01c962ec-3ff1-4ec3-ae4c-b5dabf3d42c3",
   "metadata": {},
   "outputs": [],
   "source": []
  },
  {
   "cell_type": "code",
   "execution_count": null,
   "id": "d23d294a-3517-4651-9e37-9bf262bfdafc",
   "metadata": {},
   "outputs": [],
   "source": []
  }
 ],
 "metadata": {
  "kernelspec": {
   "display_name": "Python 3 (ipykernel)",
   "language": "python",
   "name": "python3"
  },
  "language_info": {
   "codemirror_mode": {
    "name": "ipython",
    "version": 3
   },
   "file_extension": ".py",
   "mimetype": "text/x-python",
   "name": "python",
   "nbconvert_exporter": "python",
   "pygments_lexer": "ipython3",
   "version": "3.10.5"
  }
 },
 "nbformat": 4,
 "nbformat_minor": 5
}
